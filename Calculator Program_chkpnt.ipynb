{
 "cells": [
  {
   "cell_type": "markdown",
   "id": "e0d27abc-a533-4938-b47a-545c49b70543",
   "metadata": {},
   "source": [
    "#### Create a calculator program that allows the user to perform mathematical operations on two numbers using basic functions and a dictionary to store the operations. The program should also have the ability to continue calculations with the result of previous calculations."
   ]
  },
  {
   "cell_type": "code",
   "execution_count": 3,
   "id": "e1868099-6178-4769-a35b-e9edc3905eb9",
   "metadata": {},
   "outputs": [
    {
     "name": "stdin",
     "output_type": "stream",
     "text": [
      "Enter the first number:  60\n"
     ]
    },
    {
     "name": "stdout",
     "output_type": "stream",
     "text": [
      "Available operations: +, -, *, /\n"
     ]
    },
    {
     "name": "stdin",
     "output_type": "stream",
     "text": [
      "Choose an operation symbol:  *\n",
      "Enter the second number:  4\n"
     ]
    },
    {
     "name": "stdout",
     "output_type": "stream",
     "text": [
      "60.0 * 4.0 = 240.0\n"
     ]
    },
    {
     "name": "stdin",
     "output_type": "stream",
     "text": [
      "Do you want to continue with the result as the first number, yes or no? (Y/N):  n\n",
      "Do you want to calculate again? (Y/N):  n\n"
     ]
    }
   ],
   "source": [
    "# Lambda functions for basic mathematical operations  \n",
    "add = lambda x, y: x + y  \n",
    "subtract = lambda x, y: x - y  \n",
    "multiply = lambda x, y: x * y  \n",
    "divide = lambda x, y: x / y if y != 0 else \"Error: Division by zero\"  \n",
    "\n",
    "# Dictionary to store operations  \n",
    "operations = {  \n",
    "    '+': add,  \n",
    "    '-': subtract,  \n",
    "    '*': multiply,  \n",
    "    '/': divide  \n",
    "}  \n",
    "\n",
    "# Calculator function  \n",
    "def calculator():  \n",
    "    num1 = float(input(\"Enter the first number: \"))  \n",
    "    oper_continue = True  \n",
    "\n",
    "    while oper_continue:  \n",
    "        print(\"Available operations: +, -, *, /\")  \n",
    "        operation = input(\"Choose an operation symbol: \")  \n",
    "\n",
    "        if operation not in operations:  \n",
    "            print(\"Invalid operation symbol. Please try again.\")  \n",
    "            continue  \n",
    "\n",
    "        num2 = float(input(\"Enter the second number: \"))  \n",
    "\n",
    "        calculation_function = operations[operation]  \n",
    "        answer = calculation_function(num1, num2)  \n",
    "\n",
    "        print(f\"{num1} {operation} {num2} = {answer}\")  \n",
    "\n",
    "        choice = input(\"Do you want to continue with the result as the first number, yes or no? (Y/N): \")  \n",
    "        if choice.lower() == 'y':  \n",
    "            num1 = answer  \n",
    "        else:  \n",
    "            oper_continue = False  \n",
    "\n",
    "    if input(\"Do you want to calculate again? (Y/N): \").lower() == 'y':  \n",
    "        calculator()  \n",
    "\n",
    "# Start the calculator  \n",
    "calculator()"
   ]
  },
  {
   "cell_type": "code",
   "execution_count": null,
   "id": "bbc971b2-6cce-4240-9df7-51a9836d237b",
   "metadata": {},
   "outputs": [],
   "source": []
  },
  {
   "cell_type": "code",
   "execution_count": null,
   "id": "163f6e49-0de7-4d95-b8a8-96ef36825534",
   "metadata": {},
   "outputs": [],
   "source": []
  },
  {
   "cell_type": "code",
   "execution_count": null,
   "id": "83e4691d-fe4c-4583-92c2-800e2b57deb3",
   "metadata": {},
   "outputs": [],
   "source": []
  },
  {
   "cell_type": "code",
   "execution_count": null,
   "id": "62109156-0096-4585-b2b7-3c2639bdf5c1",
   "metadata": {},
   "outputs": [],
   "source": []
  },
  {
   "cell_type": "code",
   "execution_count": null,
   "id": "470b5c84-75f0-47ee-bd0a-06b7950f38a8",
   "metadata": {},
   "outputs": [],
   "source": []
  },
  {
   "cell_type": "code",
   "execution_count": null,
   "id": "ceb63d7d-c643-4299-88b3-78c71ad08dc3",
   "metadata": {},
   "outputs": [],
   "source": []
  }
 ],
 "metadata": {
  "kernelspec": {
   "display_name": "Python 3 (ipykernel)",
   "language": "python",
   "name": "python3"
  },
  "language_info": {
   "codemirror_mode": {
    "name": "ipython",
    "version": 3
   },
   "file_extension": ".py",
   "mimetype": "text/x-python",
   "name": "python",
   "nbconvert_exporter": "python",
   "pygments_lexer": "ipython3",
   "version": "3.11.7"
  }
 },
 "nbformat": 4,
 "nbformat_minor": 5
}
