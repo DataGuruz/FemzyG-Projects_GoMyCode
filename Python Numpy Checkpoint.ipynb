{
 "cells": [
  {
   "cell_type": "code",
   "execution_count": 5,
   "id": "16615f57-9e0a-4ecf-978c-1246705465b1",
   "metadata": {},
   "outputs": [
    {
     "name": "stdout",
     "output_type": "stream",
     "text": [
      "Mean grade: 87.50\n",
      "Median grade: 88.50\n",
      "Standard deviation: 6.59\n",
      "Maximum grade: 98\n",
      "Minimum grade: 75\n",
      "Sorted grades: [75 80 83 85 88 89 90 92 95 98]\n",
      "Index of the highest grade: 7\n",
      "Number of students who scored above 90: 3\n",
      "Percentage of students who scored above 90: 30.00%\n",
      "Percentage of students who scored below 75: 0.00%\n",
      "High performers (grades above 90): [92 95 98]\n",
      "Passing grades (grades above 75): [85 90 88 92 95 80 98 89 83]\n"
     ]
    }
   ],
   "source": [
    "import numpy as np  \n",
    "\n",
    "# Create the grades array  \n",
    "grades = np.array([85, 90, 88, 92, 95, 80, 75, 98, 89, 83])  \n",
    "\n",
    "# Function to perform statistical calculations  \n",
    "def calculate_statistics(grades):  \n",
    "    max_grade = np.max(grades)  \n",
    "    min_grade = np.min(grades)  \n",
    "    mean_grade = np.mean(grades)  \n",
    "    median_grade = np.median(grades)  \n",
    "    std_dev_grade = np.std(grades)  \n",
    "    \n",
    "    return max_grade, min_grade, mean_grade, median_grade, std_dev_grade  \n",
    "\n",
    "# Perform statistical calculations  \n",
    "max_grade, min_grade, mean_grade, median_grade, std_dev_grade = calculate_statistics(grades)  \n",
    "\n",
    "# Print statistical results  \n",
    "print(f\"Mean grade: {mean_grade:.2f}\")  \n",
    "print(f\"Median grade: {median_grade:.2f}\")   \n",
    "print(f\"Standard deviation: {std_dev_grade:.2f}\")  \n",
    "print(f\"Maximum grade: {max_grade}\")   \n",
    "print(f\"Minimum grade: {min_grade}\")   \n",
    "\n",
    "# Sort the grades in ascending order  \n",
    "sorted_grades = np.sort(grades)  \n",
    "print(f\"Sorted grades: {sorted_grades}\")  \n",
    "\n",
    "# Find the index of the highest grade in the array  \n",
    "index_max_grade = np.argmax(grades)  \n",
    "print(f\"Index of the highest grade: {index_max_grade}\")  \n",
    "\n",
    "# Count and calculate the percentage of students who scored above 90  \n",
    "count_above_90 = np.sum(grades > 90)   \n",
    "percentage_above_90 = (count_above_90 / len(grades)) * 100  \n",
    "print(f\"Number of students who scored above 90: {count_above_90}\")  \n",
    "print(f\"Percentage of students who scored above 90: {percentage_above_90:.2f}%\")   \n",
    "\n",
    "# Calculate the percentage of students who scored below 75  \n",
    "count_below_75 = np.sum(grades < 75)  \n",
    "percentage_below_75 = (count_below_75 / len(grades)) * 100   \n",
    "print(f\"Percentage of students who scored below 75: {percentage_below_75:.2f}%\")  \n",
    "\n",
    "# Extract grades above 90 and create a new array called high_performers  \n",
    "high_performers = grades[grades > 90]   \n",
    "print(f\"High performers (grades above 90): {high_performers}\")   \n",
    "\n",
    "# Create a new array called passing_grades that contains all the grades above 75  \n",
    "passing_grades = grades[grades > 75]  \n",
    "print(f\"Passing grades (grades above 75): {passing_grades}\")  \n",
    "\n",
    "\n",
    "\n"
   ]
  },
  {
   "cell_type": "code",
   "execution_count": null,
   "id": "5513956c-d024-4f3f-91dc-5b7ec000ecec",
   "metadata": {},
   "outputs": [],
   "source": []
  },
  {
   "cell_type": "code",
   "execution_count": null,
   "id": "07468350-356b-4d63-8e2d-9d84479580bb",
   "metadata": {},
   "outputs": [],
   "source": []
  },
  {
   "cell_type": "code",
   "execution_count": null,
   "id": "e06ab612-e5d1-4aa2-bad9-d8c6dfd727ea",
   "metadata": {},
   "outputs": [],
   "source": []
  },
  {
   "cell_type": "code",
   "execution_count": null,
   "id": "d1bcc605-03b9-4071-a8e6-0a7c5431e359",
   "metadata": {},
   "outputs": [],
   "source": []
  },
  {
   "cell_type": "code",
   "execution_count": null,
   "id": "038ce1bb-90a7-4b89-aeac-eebf7fd61f4b",
   "metadata": {},
   "outputs": [],
   "source": []
  },
  {
   "cell_type": "code",
   "execution_count": null,
   "id": "042c45a8-7a28-4414-b673-432f1a31cbb8",
   "metadata": {},
   "outputs": [],
   "source": []
  },
  {
   "cell_type": "code",
   "execution_count": null,
   "id": "9cb776cf-b8d7-472e-8679-73973535ad58",
   "metadata": {},
   "outputs": [],
   "source": []
  },
  {
   "cell_type": "code",
   "execution_count": null,
   "id": "3c2a13e9-1569-4110-9876-9da39e0e29f2",
   "metadata": {},
   "outputs": [],
   "source": []
  },
  {
   "cell_type": "code",
   "execution_count": null,
   "id": "a98bb574-3cff-4e18-a5f4-ac7225d483a3",
   "metadata": {},
   "outputs": [],
   "source": []
  },
  {
   "cell_type": "code",
   "execution_count": null,
   "id": "b8ac2149-1c23-44a1-8fbb-5142726dce64",
   "metadata": {},
   "outputs": [],
   "source": []
  },
  {
   "cell_type": "code",
   "execution_count": null,
   "id": "acdfc2ce-9bca-4f42-9c77-7ecae36066dc",
   "metadata": {},
   "outputs": [],
   "source": []
  },
  {
   "cell_type": "code",
   "execution_count": null,
   "id": "bb3dacae-46ed-4882-bfdb-1fceeb6e87b0",
   "metadata": {},
   "outputs": [],
   "source": []
  },
  {
   "cell_type": "code",
   "execution_count": null,
   "id": "358bf9db-ec54-45d9-a549-5fdcf6ac4175",
   "metadata": {},
   "outputs": [],
   "source": []
  },
  {
   "cell_type": "code",
   "execution_count": null,
   "id": "d2a0bb46-5ec5-49b4-9ea2-88ba88aa915b",
   "metadata": {},
   "outputs": [],
   "source": []
  }
 ],
 "metadata": {
  "kernelspec": {
   "display_name": "Python 3 (ipykernel)",
   "language": "python",
   "name": "python3"
  },
  "language_info": {
   "codemirror_mode": {
    "name": "ipython",
    "version": 3
   },
   "file_extension": ".py",
   "mimetype": "text/x-python",
   "name": "python",
   "nbconvert_exporter": "python",
   "pygments_lexer": "ipython3",
   "version": "3.11.7"
  }
 },
 "nbformat": 4,
 "nbformat_minor": 5
}
