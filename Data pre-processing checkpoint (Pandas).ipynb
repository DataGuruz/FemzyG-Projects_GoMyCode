{
 "cells": [
  {
   "cell_type": "markdown",
   "id": "b56f6a66-0a9f-46e5-914f-398eea96f3d6",
   "metadata": {},
   "source": [
    " # Data Pre_processing (Data Exploration with Pandas)"
   ]
  },
  {
   "cell_type": "markdown",
   "id": "2253cbca-e77f-437d-89f3-1918be863a9b",
   "metadata": {},
   "source": [
    "1)  Load the dataset, display the ten first lines, store the results in a variable called 'client_0_bills'-\n",
    "2)  What is the data type of the 'client_0_bills' variable?\n",
    "3)  Display the general information of the dataset and try to answer the following questions- :\n",
    "   \n",
    "     a)  How many rows and columns do we have in this dataset ?\n",
    "     b)  How many categorical features are present in the dataset ?\n",
    "     c)  How much memory space does the dataset consume ?\n",
    "4)   Inspect the dataset for potential missing - values.\n",
    "5)   Select your strategy to handle missing values, and tell us why you had made that- choice.\n",
    "6)   Run a descriptive analysis on numeric features (columns).\n",
    "7)   Select the bills records for the client with an id ='train_Client_0', using - T methods.\n",
    "8)   Transform the 'counter_type' feature to a numeric variable using the encoder of y- our choice.\n",
    "9)   Delete the 'counter_statue' feature from the Dataframe"
   ]
  },
  {
   "cell_type": "code",
   "execution_count": 1,
   "id": "f2581fc1-b938-4db9-891b-5c12cb1cddd0",
   "metadata": {},
   "outputs": [],
   "source": [
    "import pandas as pd"
   ]
  },
  {
   "cell_type": "code",
   "execution_count": null,
   "id": "0e88463f-13df-4690-9052-88c0caf7e7a4",
   "metadata": {},
   "outputs": [],
   "source": [
    "billing_history_df= pd.read_csv(\"STEG_BILLING_HISTORY.csv\")"
   ]
  },
  {
   "cell_type": "code",
   "execution_count": null,
   "id": "3d520c5a-fbf7-4044-9304-5b5fe3b208c5",
   "metadata": {},
   "outputs": [],
   "source": [
    "# Question 1. Load the dataset, display the ten first lines, store the results in a variable called 'client_0_bills'\n",
    "client_0_bills = billing_history_df.head(10)\n",
    "client_0_bills"
   ]
  },
  {
   "cell_type": "code",
   "execution_count": null,
   "id": "1c76b597-9098-4413-a943-04f676027198",
   "metadata": {},
   "outputs": [],
   "source": [
    "# Question 2. What is the data type of the 'client_0_bills' variable\n",
    "client_0_bills \"\"\"is a string \"\"\""
   ]
  },
  {
   "cell_type": "code",
   "execution_count": null,
   "id": "f04da76f-7dbc-4d11-a5af-864fa79946ee",
   "metadata": {},
   "outputs": [],
   "source": [
    "# Question 3. Display the general information of the dataset and try to answer the following questions : \n",
    "info = billing_history_df.info()\n",
    "\n",
    "# a) How many rows and columns do we have in this dataset ? rows = 4476749 columns = 17 columns\n",
    "num_rows, num_columns = billing_history_df.shape  \n",
    "print(f\"Number of rows: {num_rows}, Number of columns: {num_columns}\")\n",
    "\n",
    "# b) How many categorical features are present in the dataset ? 4\n",
    "categorical_features = billing_history_df.select_dtypes(include=['object']).columns  \n",
    "num_categorical_features = len(categorical_features)  \n",
    "print(f\"Number of categorical features: {num_categorical_features}\")\n",
    "\n",
    "# C) How much memory space does the dataset consume ? memory usage: 563.6+ MB\n",
    "memory_usage = billing_history_df.memory_usage(deep=True).sum()  \n",
    "print(f\"Memory space consumed: {memory_usage} bytes\")\n",
    "\n"
   ]
  },
  {
   "cell_type": "code",
   "execution_count": null,
   "id": "f7c52b0b-953b-495d-9e90-4686c4b3ef6b",
   "metadata": {},
   "outputs": [],
   "source": [
    "# Question 4. Inspect the dataset for potential missing values.\n",
    "billing_history_df.isnull().sum()\n",
    "#reading_remarque        4531\n",
    "#counter_number            48"
   ]
  },
  {
   "cell_type": "code",
   "execution_count": null,
   "id": "b7782b79-7455-419b-b902-f80505dbf400",
   "metadata": {},
   "outputs": [],
   "source": [
    "# Question 5. Select your strategy to handle missing values, and tell us why you had made that choice.\n",
    "\n",
    "\"\"\"Choice of Strategy: Depending on the nature of the missing values, \n",
    "since there is a significant number of missing values it might be better to drop the rows with missing values \n",
    "(the alternative would be to fill them with a specific value such as mean, median, mode, etc. If the missing values are few)\"\"\""
   ]
  },
  {
   "cell_type": "code",
   "execution_count": 8,
   "id": "1196d2b5-44dd-4f1b-8850-206fac8f853a",
   "metadata": {},
   "outputs": [
    {
     "data": {
      "text/plain": [
       "array([1335667.,  678902.,  572765., ..., 4811719.,  262195.,  560948.])"
      ]
     },
     "execution_count": 8,
     "metadata": {},
     "output_type": "execute_result"
    }
   ],
   "source": [
    "billing_history_df[\"counter_number\"].unique()"
   ]
  },
  {
   "cell_type": "code",
   "execution_count": 9,
   "id": "ae4d10a1-6102-4a94-99a8-050dcd7b065c",
   "metadata": {},
   "outputs": [],
   "source": [
    " # use dropna to remove missing values \n",
    "billing_history_df.dropna(inplace = True)"
   ]
  },
  {
   "cell_type": "code",
   "execution_count": null,
   "id": "7c178d54-3e44-44dd-8645-5e911449e5aa",
   "metadata": {},
   "outputs": [],
   "source": [
    "# Question 6. Run a descriptive analysis on numeric features (columns).\n",
    "billing_history_df.describe()"
   ]
  },
  {
   "cell_type": "code",
   "execution_count": null,
   "id": "c8cce4ea-3f8b-4ae5-bf3c-d733e1f73f79",
   "metadata": {},
   "outputs": [],
   "source": [
    "# Question 7. Select the bills records for the client with an id ='train_Client_0', using 2 methods.\n",
    "#method_1 === USING LOC FUNCTION\n",
    "billing_history_df.loc[billing_history_df[\"client_id\"] == 'train_Client_0']"
   ]
  },
  {
   "cell_type": "code",
   "execution_count": 13,
   "id": "3de8bf47-66bf-47d4-9846-f8096eb851f3",
   "metadata": {},
   "outputs": [],
   "source": [
    "# Question 8. Transform the 'counter_type' feature to a numeric variable using the encoder of your choice.                                                                                                                                                               Transform the 'counter_type' feature to a numeric variable using the encoder of your choice.\n",
    "from sklearn.preprocessing import LabelEncoder as le"
   ]
  },
  {
   "cell_type": "code",
   "execution_count": 14,
   "id": "6ef8cac4-0926-4bcf-87bc-bc4b688860dc",
   "metadata": {},
   "outputs": [],
   "source": [
    "label_encoder = le()\n",
    "billing_history_df['counter type encoded'] = label_encoder.fit_transform(billing_history_df['counter_type'])"
   ]
  },
  {
   "cell_type": "code",
   "execution_count": null,
   "id": "231168e7-e49c-41d5-a4e1-ed09d2e8cc1e",
   "metadata": {},
   "outputs": [],
   "source": [
    "billing_history_df"
   ]
  },
  {
   "cell_type": "code",
   "execution_count": 16,
   "id": "aaf747d8-27f0-4207-be6c-898801eb023d",
   "metadata": {},
   "outputs": [
    {
     "data": {
      "text/plain": [
       "array([0, 1])"
      ]
     },
     "execution_count": 16,
     "metadata": {},
     "output_type": "execute_result"
    }
   ],
   "source": [
    "billing_history_df['counter type encoded'].unique()"
   ]
  },
  {
   "cell_type": "code",
   "execution_count": 17,
   "id": "81baa633-6846-4022-95f6-4b9e3300eb78",
   "metadata": {},
   "outputs": [
    {
     "data": {
      "text/plain": [
       "1397343"
      ]
     },
     "execution_count": 17,
     "metadata": {},
     "output_type": "execute_result"
    }
   ],
   "source": [
    "len(billing_history_df.loc[billing_history_df['counter type encoded'] == 1])"
   ]
  },
  {
   "cell_type": "code",
   "execution_count": null,
   "id": "3d1117c5-6e3e-4eb7-aff7-a988a9024c4e",
   "metadata": {},
   "outputs": [],
   "source": [
    "# Question 9.  Delete the 'counter_statue' feature from the Dataframe\n",
    "billing_history_df.drop(columns = ['counter_statue'])"
   ]
  },
  {
   "cell_type": "code",
   "execution_count": null,
   "id": "7ff5c25a-892c-4400-be2c-0b7404f75d31",
   "metadata": {},
   "outputs": [],
   "source": []
  }
 ],
 "metadata": {
  "kernelspec": {
   "display_name": "Python 3 (ipykernel)",
   "language": "python",
   "name": "python3"
  },
  "language_info": {
   "codemirror_mode": {
    "name": "ipython",
    "version": 3
   },
   "file_extension": ".py",
   "mimetype": "text/x-python",
   "name": "python",
   "nbconvert_exporter": "python",
   "pygments_lexer": "ipython3",
   "version": "3.11.7"
  }
 },
 "nbformat": 4,
 "nbformat_minor": 5
}
