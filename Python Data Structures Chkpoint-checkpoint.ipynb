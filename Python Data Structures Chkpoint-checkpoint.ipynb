{
 "cells": [
  {
   "cell_type": "code",
   "execution_count": null,
   "id": "8ab00ee7-66eb-4902-9fb4-413c0296afcf",
   "metadata": {},
   "outputs": [],
   "source": [
    "#Create a list to store the shopping items\n",
    "#Use a while loop to create a menu of options for the user to add, remove, or view items from the list\n",
    "#Use a for loop to iterate through the list of items and display them to the user\n",
    "#Use the range() function to limit the number of items that can be added to the list\n",
    "#Use the list, tuple, set, and dictionary data structures to store and manipulate the shopping items\n",
    "#Instructions:\n",
    "\n",
    "##Create a list named 'shopping_list' to store the items.\n",
    "#Use a while loop to create a menu of options for the user to add, remove, or view items from the list.\n",
    "#Use the input() function to prompt the user to make a selection from the menu.\n",
    "#Use an if-elif-else block to determine the user's selection and perform the corresponding action.\n",
    "#If the user selects 'add', use the input() function to prompt the user to enter an item to add to the list. Use the range() function to limit the number of items that can be added to the list.\n",
    "##If the user selects 'remove', use the input() function to prompt the user to enter an item to remove from the list.\n",
    "#If the user selects 'view', use a for loop to iterate through the list of items and display them to the user.\n",
    "##Use the list, tuple, set, and dictionary data structures to store and manipulate the shopping items."
   ]
  },
  {
   "cell_type": "code",
   "execution_count": 2,
   "id": "79d34a2c-ee9b-417a-b721-8fd0d55ac84e",
   "metadata": {},
   "outputs": [
    {
     "name": "stdout",
     "output_type": "stream",
     "text": [
      "This is your Shopping list: \n",
      "Menu\n",
      "1. Add to your list\n",
      "2. Remove from list\n",
      "3. View your list\n",
      "4. Exit\n"
     ]
    },
    {
     "name": "stdin",
     "output_type": "stream",
     "text": [
      "Choose an option from the menu between 1 and 4:  1\n",
      "Please make your entry:  dolls\n"
     ]
    },
    {
     "name": "stdout",
     "output_type": "stream",
     "text": [
      "Entry added to the shopping list.\n",
      "Invalid choice.\n",
      "Menu\n",
      "1. Add to your list\n",
      "2. Remove from list\n",
      "3. View your list\n",
      "4. Exit\n"
     ]
    },
    {
     "name": "stdin",
     "output_type": "stream",
     "text": [
      "Choose an option from the menu between 1 and 4:  4\n"
     ]
    },
    {
     "name": "stdout",
     "output_type": "stream",
     "text": [
      "Exiting the program.\n"
     ]
    }
   ],
   "source": [
    "shopping_list = []\n",
    "def shopping_list_menu():\n",
    "    print(\"This is your Shopping list: \")\n",
    "    while True:\n",
    "        print(\"Menu\")\n",
    "        print(\"1. Add to your list\")\n",
    "        print(\"2. Remove from list\")\n",
    "        print(\"3. View your list\")\n",
    "        print(\"4. Exit\")\n",
    "    \n",
    "        choice =  input('Choose an option from the menu between 1 and 4: ')\n",
    "    \n",
    "        if choice == '1':  # Add item \n",
    "            if len(shopping_list) < 10:\n",
    "                add_to_shopping_list = input('Please make your entry: ')\n",
    "                shopping_list.append(add_to_shopping_list)\n",
    "                print(\"Entry added to the shopping list.\")\n",
    "            else:\n",
    "                print(\"Shopping list full.\")\n",
    "\n",
    "                \n",
    "        if choice == '2':\n",
    "            remove_from_shopping_list = input(\"Please enter item you want to remove from your shopping list: \")\n",
    "            if remove_from_shopping_list in shopping_list:\n",
    "                shopping_list.remove(remove_from_shopping_list)\n",
    "                print(\"Item removed successfully\")\n",
    "            else:\n",
    "                 print(\" Item not found in the shopping list.\")\n",
    "                 print('Current content of your list: ')\n",
    "                 print(\"\", shopping_list)\n",
    "                 print(\"Please select '2' from Menu: Try entering item you want to remove from the list again: \")   \n",
    "    \n",
    "        elif choice == '3':\n",
    "             print(\"Your shopping list: \", shopping_list)\n",
    "    \n",
    "        elif choice == '4':\n",
    "            print(\"Exiting the program.\")\n",
    "            break\n",
    "    \n",
    "        else: print(\"Invalid choice.\")\n",
    "    \n",
    "shopping_list_menu()\n",
    "   "
   ]
  },
  {
   "cell_type": "code",
   "execution_count": null,
   "id": "b34eb6aa-2457-40b4-9f9c-233c91a109b4",
   "metadata": {},
   "outputs": [],
   "source": []
  },
  {
   "cell_type": "code",
   "execution_count": null,
   "id": "9029c0a5-6504-4997-a1c6-9991dbc881a4",
   "metadata": {},
   "outputs": [],
   "source": []
  },
  {
   "cell_type": "code",
   "execution_count": null,
   "id": "f10620b2-f055-499d-8e6d-8bdfefc059fc",
   "metadata": {},
   "outputs": [],
   "source": []
  },
  {
   "cell_type": "code",
   "execution_count": null,
   "id": "04fe49f8-1f55-4cc1-924d-0badc6cb14fe",
   "metadata": {},
   "outputs": [],
   "source": []
  },
  {
   "cell_type": "code",
   "execution_count": null,
   "id": "4878bee1-1c0d-4798-8fb9-6267fe4f71e3",
   "metadata": {},
   "outputs": [],
   "source": []
  }
 ],
 "metadata": {
  "kernelspec": {
   "display_name": "Python 3 (ipykernel)",
   "language": "python",
   "name": "python3"
  },
  "language_info": {
   "codemirror_mode": {
    "name": "ipython",
    "version": 3
   },
   "file_extension": ".py",
   "mimetype": "text/x-python",
   "name": "python",
   "nbconvert_exporter": "python",
   "pygments_lexer": "ipython3",
   "version": "3.11.7"
  }
 },
 "nbformat": 4,
 "nbformat_minor": 5
}
