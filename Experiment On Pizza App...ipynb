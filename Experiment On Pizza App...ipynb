{
 "cells": [
  {
   "cell_type": "markdown",
   "id": "c3c5ab92-47a3-4d6b-8db7-c5cec4e6ed56",
   "metadata": {},
   "source": [
    "Congratulations, you've got a job at Pizza World. Your first job is to build an automatic pizza order program. Based on a user's order, work out their final bill."
   ]
  },
  {
   "cell_type": "code",
   "execution_count": null,
   "id": "370e76c0-ada3-4042-8344-9121258c1b11",
   "metadata": {},
   "outputs": [],
   "source": []
  },
  {
   "cell_type": "code",
   "execution_count": 11,
   "id": "2a4f1e04-c562-4f4b-bb05-083c02bc4830",
   "metadata": {},
   "outputs": [
    {
     "name": "stdout",
     "output_type": "stream",
     "text": [
      "Menu:- Type of Pizza\n",
      " [1]  VEGAN CLASSIC PIZZA:\n",
      "      Small Pizza: ₦ 3,000  Medium Pizza: ₦ 3,500  Large Pizza: ₦ 4,600\n",
      " [2]  BBQ CHICKEN:\n",
      "      Small Pizza: ₦ 3,200  Medium Pizza: ₦ 3,800  Large Pizza: ₦ 4,800\n",
      " [3]  PIZZA SUPREME:\n",
      "      Small Pizza: ₦ 3,500  Medium Pizza: ₦ 4,000  Large Pizza: ₦ 5,000\n",
      " [4]  FOUR CHEESE:\n",
      "      Small Pizza: ₦ 3,500  Medium Pizza: ₦ 4,000  Large Pizza: ₦ 5,000\n",
      "# PEPPERONI for:\n",
      "      Small Pizza: ₦ 200  Medium & Large Pizza: ₦ 400\n",
      "# Extra Cheese:\n",
      "      ₦ 200\n"
     ]
    },
    {
     "name": "stdin",
     "output_type": "stream",
     "text": [
      "Check Menu for pizza options and Select the type of pizza you want by selecting 1-4:  2\n",
      "What size of pizza do you prefer? S, M, or L:  l\n",
      "How many pizzas would you like to order?  2\n",
      "Would you like us to add pepperoni to your pizza? Y or N:  y\n",
      "Do you want extra cheese? Y or N:  y\n"
     ]
    },
    {
     "name": "stdout",
     "output_type": "stream",
     "text": [
      "Your order would soon be ready\n"
     ]
    },
    {
     "name": "stdin",
     "output_type": "stream",
     "text": [
      "Would you care to order a drink? (Y/N):  y\n",
      "Choose between soda or malt drink: (Soda / Malt Drink):  s\n",
      "Choose your malt drink (maltina/ amstel malta/ malta guiness/ hi malt):  maltina\n",
      "How many drinks would you like?  3\n"
     ]
    },
    {
     "name": "stdout",
     "output_type": "stream",
     "text": [
      "Your final bill is: ₦13800\n",
      "*You can make payments via our payment channels. We also accept Master and Visa cards\n",
      "Thank you for your patronage\n"
     ]
    },
    {
     "name": "stdin",
     "output_type": "stream",
     "text": [
      "Please enter your name:  ACE\n"
     ]
    },
    {
     "name": "stdout",
     "output_type": "stream",
     "text": [
      "Thank you, ACE! Your order has been placed. Please wait for 3 minutes for your pizza.\n",
      "Thank you for waiting, ACE! Your pizza is ready.\n"
     ]
    }
   ],
   "source": [
    "#### print('Welcome To Pizza World Deliveries')\n",
    "print('Menu:- Type of Pizza')\n",
    "print(' [1]  VEGAN CLASSIC PIZZA:\\n      Small Pizza: ₦ 3,000  Medium Pizza: ₦ 3,500  Large Pizza: ₦ 4,600')\n",
    "print(' [2]  BBQ CHICKEN:\\n      Small Pizza: ₦ 3,200  Medium Pizza: ₦ 3,800  Large Pizza: ₦ 4,800')\n",
    "print(' [3]  PIZZA SUPREME:\\n      Small Pizza: ₦ 3,500  Medium Pizza: ₦ 4,000  Large Pizza: ₦ 5,000')\n",
    "print(' [4]  FOUR CHEESE:\\n      Small Pizza: ₦ 3,500  Medium Pizza: ₦ 4,000  Large Pizza: ₦ 5,000')\n",
    "print('# PEPPERONI for:\\n      Small Pizza: ₦ 200  Medium & Large Pizza: ₦ 400')\n",
    "print('# Extra Cheese:\\n      ₦ 200')\n",
    "\n",
    "def pizza_var(pizza_type):\n",
    "    return pizza_type.lower() in ['1', '2', '3', '4']\n",
    "\n",
    "# Loop to take order  \n",
    "\n",
    "# Ask for type of pizza\n",
    "pizza_type = ''\n",
    "while True:\n",
    "    pizza_type = input('Check Menu for pizza options and Select the type of pizza you want by selecting 1-4: ').lower()\n",
    "    if pizza_var(pizza_type):\n",
    "        break\n",
    "    else:\n",
    "        print(\"Enter a valid selection\")\n",
    "        \n",
    "# Ask for Size of Pizza\n",
    "while True:\n",
    "    size = input(\"What size of pizza do you prefer? S, M, or L: \").upper()\n",
    "    if size in ['S', 'M', 'L']:\n",
    "        break\n",
    "    else:\n",
    "        print(\"We do not have this size. Please select S, M, or L\")\n",
    "\n",
    "# Ask for quantity of pizza\n",
    "more_pizza = int(input('How many pizzas would you like to order? '))\n",
    "\n",
    "# Ask user if they want pepperoni\n",
    "add_pepperoni = input(\"Would you like us to add pepperoni to your pizza? Y or N: \").upper()\n",
    "\n",
    "# Ask user if they want extra cheese\n",
    "add_extra_cheese = input(\"Do you want extra cheese? Y or N: \").upper()\n",
    "print('Your order would soon be ready')\n",
    "\n",
    "# Ask user if they want drinks\n",
    "drinks = input('Would you care to order a drink? (Y/N): ')\n",
    "\n",
    "if drinks.upper() == 'Y':\n",
    "    drink_preference = input('Choose between soda or malt drink: (Soda / Malt Drink): ').lower()\n",
    "    if drink_preference == 'soda':\n",
    "        soda_choice = input('Choose your soda (coke/ fanta/ sprite/ schweppes/ pepsi/ mirinda): ')\n",
    "        drink_quantity = int(input('How many drinks would you like? '))\n",
    "    else:\n",
    "        malt_choice = input('Choose your malt drink (maltina/ amstel malta/ malta guiness/ hi malt): ')\n",
    "        drink_quantity = int(input('How many drinks would you like? '))\n",
    "\n",
    "# Calculating the final bill based on the user's inputs\n",
    "bill = 0\n",
    "if pizza_type == '1':\n",
    "    if size == 'S':\n",
    "        bill += 3000\n",
    "    elif size == 'M':\n",
    "        bill += 3500\n",
    "    else:\n",
    "        bill += 4600\n",
    "\n",
    "if pizza_type == '2':\n",
    "    if size == 'S':\n",
    "        bill += 3200\n",
    "    elif size == 'M':\n",
    "        bill += 3800\n",
    "    else:\n",
    "        bill += 4800\n",
    "\n",
    "if pizza_type == '3' or pizza_type == '4':\n",
    "    if size == 'S':\n",
    "        bill += 3500\n",
    "    elif size == 'M':\n",
    "        bill += 4000\n",
    "    else:\n",
    "        bill += 5000\n",
    "\n",
    "if add_pepperoni == 'Y':\n",
    "    if size == 'S':\n",
    "        bill += 200\n",
    "    else:\n",
    "        bill += 400\n",
    "\n",
    "if add_extra_cheese == 'Y':\n",
    "    bill += 200\n",
    "\n",
    "bill *= more_pizza\n",
    "\n",
    "if drinks.upper() == 'Y':\n",
    "    if drink_preference == 'soda':\n",
    "        bill += 500 * drink_quantity\n",
    "    else:\n",
    "        bill += 1000 * drink_quantity\n",
    "\n",
    "print(f'Your final bill is: ₦{bill}')\n",
    "print('*You can make payments via our payment channels. We also accept Master and Visa cards')\n",
    "print('Thank you for your patronage')\n",
    "\n",
    "# Implementing timer for order preparation\n",
    "import time\n",
    "\n",
    "def order_pizza():\n",
    "    name = input(\"Please enter your name: \")\n",
    "    print(f\"Thank you, {name}! Your order has been placed. Please wait for 3 minutes for your pizza.\")\n",
    "\n",
    "    # Start a 3-minute timer\n",
    "    start_time = time.time()\n",
    "    wait_time = 180  # 3 minutes in seconds\n",
    "    \n",
    "    while True:\n",
    "        elapsed_time = time.time() - start_time\n",
    "        remaining_time = max(wait_time - elapsed_time, 0)\n",
    "    \n",
    "        if remaining_time == 0:\n",
    "            print(f\"Thank you for waiting, {name}! Your pizza is ready.\")\n",
    "            break\n",
    "            \n",
    "    \n",
    "        mins, secs = divmod(int(remaining_time), 60)\n",
    "        print(f\"Time remaining: {mins:02}:{secs:02}\", end='\\r')\n",
    "        time.sleep(1)\n",
    "\n",
    "\n",
    "order_pizza()\n",
    "\n"
   ]
  },
  {
   "cell_type": "code",
   "execution_count": null,
   "id": "10476186-804a-4899-a821-8fda42c7b7e1",
   "metadata": {},
   "outputs": [],
   "source": []
  },
  {
   "cell_type": "code",
   "execution_count": null,
   "id": "1b1fd641-130e-450d-8bc5-cc3bf0ae417d",
   "metadata": {},
   "outputs": [],
   "source": []
  },
  {
   "cell_type": "code",
   "execution_count": null,
   "id": "b72d3b13-9289-4737-b5c0-6cbcf197d211",
   "metadata": {},
   "outputs": [],
   "source": []
  }
 ],
 "metadata": {
  "kernelspec": {
   "display_name": "Python 3 (ipykernel)",
   "language": "python",
   "name": "python3"
  },
  "language_info": {
   "codemirror_mode": {
    "name": "ipython",
    "version": 3
   },
   "file_extension": ".py",
   "mimetype": "text/x-python",
   "name": "python",
   "nbconvert_exporter": "python",
   "pygments_lexer": "ipython3",
   "version": "3.11.7"
  }
 },
 "nbformat": 4,
 "nbformat_minor": 5
}
